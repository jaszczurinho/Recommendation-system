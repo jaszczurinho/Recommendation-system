{
 "cells": [
  {
   "cell_type": "markdown",
   "id": "2036c16b-cff1-4b2b-9d68-987b26109d9c",
   "metadata": {},
   "source": [
    "This notebook is the primary step to build my first ever recommendation system. The data that will be fed into the system is an extended version of the original <a href=https://github.com/zygmuntz/goodbooks-10k>goodbooks-10k</a> dataset made by <a href=\"https://github.com/zygmuntz\">@Zygmunt Zając</a>, whereas the extended one (enriched with e.g.: book descriptions, genres. More info about the additional fields <a href=\"https://github.com/malcolmosh/goodbooks-10k-extended/blob/master/README.md\">here</a>) was made by user <a href=\"https://github.com/malcolmosh\">malcolmosh</a>. Big shoutout to them both!<br>"
   ]
  },
  {
   "cell_type": "markdown",
   "id": "3c89cf0c-6b3d-426c-be5d-2fa86cd0d300",
   "metadata": {},
   "source": [
    "The main idea of the system is to print out the recommendations based on the user's query. So that will include text preprocessing, creating text embeddings, calculation of vector similarity scores based on which the retrieval will retirive top-n recommendations.  <br>"
   ]
  },
  {
   "cell_type": "markdown",
   "id": "7f0b2259-59a4-450b-b75e-543b7c06f260",
   "metadata": {},
   "source": [
    "But before all of that let's start with EDA."
   ]
  },
  {
   "cell_type": "code",
   "execution_count": 30,
   "id": "d4fe040c-b3a4-43a8-8dea-a1a2dd37c030",
   "metadata": {},
   "outputs": [],
   "source": [
    "import pandas as pd\n",
    "from ast import literal_eval\n",
    "from collections import Counter\n",
    "import pandas as pd\n",
    "import matplotlib.pyplot as plt"
   ]
  },
  {
   "cell_type": "code",
   "execution_count": 31,
   "id": "81caeaba-66f6-4f89-a8b9-1c79d34b036e",
   "metadata": {},
   "outputs": [],
   "source": [
    "books_df = pd.read_csv('https://raw.githubusercontent.com/malcolmosh/goodbooks-10k/master/books_enriched.csv', index_col=[0], converters={\"genres\": literal_eval})"
   ]
  },
  {
   "cell_type": "markdown",
   "id": "5ab2c2e4-c7dc-46fe-9180-0dda84c6b1b2",
   "metadata": {},
   "source": [
    "Let's remove the columns that won't be needed. Also, for the purpose of this exercise we choose only books published in English. "
   ]
  },
  {
   "cell_type": "code",
   "execution_count": 32,
   "id": "fe4a1177-0e68-4cf0-9209-8525ad7da8d5",
   "metadata": {},
   "outputs": [],
   "source": [
    "books_df = books_df.drop(['best_book_id', 'goodreads_book_id', 'isbn', 'isbn13', 'small_image_url', 'work_id', 'work_ratings_count', 'work_text_reviews_count'], axis=1)\n",
    "books_df = books_df[books_df[\"language_code\"] == \"eng\"]"
   ]
  },
  {
   "cell_type": "code",
   "execution_count": 33,
   "id": "7bb089e9-ba32-4a34-b2e7-a240457696ad",
   "metadata": {},
   "outputs": [
    {
     "data": {
      "text/plain": [
       "index                          0\n",
       "authors                        0\n",
       "average_rating                 0\n",
       "book_id                        0\n",
       "books_count                    0\n",
       "description                   52\n",
       "genres                         0\n",
       "image_url                      0\n",
       "language_code                  0\n",
       "original_publication_year     20\n",
       "original_title               562\n",
       "pages                         69\n",
       "publishDate                    8\n",
       "ratings_1                      0\n",
       "ratings_2                      0\n",
       "ratings_3                      0\n",
       "ratings_4                      0\n",
       "ratings_5                      0\n",
       "ratings_count                  0\n",
       "title                          0\n",
       "authors_2                      0\n",
       "dtype: int64"
      ]
     },
     "execution_count": 33,
     "metadata": {},
     "output_type": "execute_result"
    }
   ],
   "source": [
    "books_df.isna().sum()"
   ]
  },
  {
   "cell_type": "markdown",
   "id": "8367153e-23d6-4070-aa01-e6c0874a6cb7",
   "metadata": {},
   "source": [
    "Let's investigate the columns with missing values."
   ]
  },
  {
   "cell_type": "code",
   "execution_count": 34,
   "id": "89045b81-09c9-4388-a423-9804b17b6b9c",
   "metadata": {},
   "outputs": [],
   "source": [
    "def print_n(data, n):\n",
    "    return data.head(n)"
   ]
  },
  {
   "cell_type": "code",
   "execution_count": 35,
   "id": "efc69718-9a19-4f34-bbeb-fe0ce45be0d1",
   "metadata": {},
   "outputs": [
    {
     "data": {
      "text/plain": [
       "0              The Hunger Games (The Hunger Games, #1)\n",
       "1    Harry Potter and the Sorcerer's Stone (Harry P...\n",
       "2                              Twilight (Twilight, #1)\n",
       "3                                To Kill a Mockingbird\n",
       "4                                     The Great Gatsby\n",
       "5                               The Fault in Our Stars\n",
       "6                                           The Hobbit\n",
       "7                               The Catcher in the Rye\n",
       "8                Angels & Demons  (Robert Langdon, #1)\n",
       "9                                  Pride and Prejudice\n",
       "Name: title, dtype: object"
      ]
     },
     "execution_count": 35,
     "metadata": {},
     "output_type": "execute_result"
    }
   ],
   "source": [
    "print_n(books_df[\"title\"], 10)"
   ]
  },
  {
   "cell_type": "code",
   "execution_count": 36,
   "id": "29eb47c6-f873-4d72-93c9-4d8fc94e35d7",
   "metadata": {},
   "outputs": [
    {
     "data": {
      "text/plain": [
       "0                            The Hunger Games\n",
       "1    Harry Potter and the Philosopher's Stone\n",
       "2                                    Twilight\n",
       "3                       To Kill a Mockingbird\n",
       "4                            The Great Gatsby\n",
       "5                      The Fault in Our Stars\n",
       "6          The Hobbit or There and Back Again\n",
       "7                      The Catcher in the Rye\n",
       "8                            Angels & Demons \n",
       "9                         Pride and Prejudice\n",
       "Name: original_title, dtype: object"
      ]
     },
     "execution_count": 36,
     "metadata": {},
     "output_type": "execute_result"
    }
   ],
   "source": [
    "print_n(books_df[\"original_title\"], 10)"
   ]
  },
  {
   "cell_type": "markdown",
   "id": "e780e41c-855e-47cb-bf10-7591c8c6f73c",
   "metadata": {},
   "source": [
    "Given that the titles in the `original_title` columns are more friendly to use, we'll have to get rid of rows missing them."
   ]
  },
  {
   "cell_type": "markdown",
   "id": "ad0b3bfd-5964-4be5-991e-e2df3d8255e3",
   "metadata": {},
   "source": [
    "Books for which we do not have descriptions are unnecessary, since the descriptions will be really important to base the recommendations on. "
   ]
  },
  {
   "cell_type": "code",
   "execution_count": 37,
   "id": "2932555e-9da7-4bc5-8c94-2087aed27d2b",
   "metadata": {
    "scrolled": true
   },
   "outputs": [
    {
     "data": {
      "text/html": [
       "<div>\n",
       "<style scoped>\n",
       "    .dataframe tbody tr th:only-of-type {\n",
       "        vertical-align: middle;\n",
       "    }\n",
       "\n",
       "    .dataframe tbody tr th {\n",
       "        vertical-align: top;\n",
       "    }\n",
       "\n",
       "    .dataframe thead th {\n",
       "        text-align: right;\n",
       "    }\n",
       "</style>\n",
       "<table border=\"1\" class=\"dataframe\">\n",
       "  <thead>\n",
       "    <tr style=\"text-align: right;\">\n",
       "      <th></th>\n",
       "      <th>index</th>\n",
       "      <th>authors</th>\n",
       "      <th>average_rating</th>\n",
       "      <th>book_id</th>\n",
       "      <th>books_count</th>\n",
       "      <th>description</th>\n",
       "      <th>genres</th>\n",
       "      <th>image_url</th>\n",
       "      <th>language_code</th>\n",
       "      <th>original_publication_year</th>\n",
       "      <th>...</th>\n",
       "      <th>pages</th>\n",
       "      <th>publishDate</th>\n",
       "      <th>ratings_1</th>\n",
       "      <th>ratings_2</th>\n",
       "      <th>ratings_3</th>\n",
       "      <th>ratings_4</th>\n",
       "      <th>ratings_5</th>\n",
       "      <th>ratings_count</th>\n",
       "      <th>title</th>\n",
       "      <th>authors_2</th>\n",
       "    </tr>\n",
       "  </thead>\n",
       "  <tbody>\n",
       "    <tr>\n",
       "      <th>427</th>\n",
       "      <td>427</td>\n",
       "      <td>['Anonymous']</td>\n",
       "      <td>4.43</td>\n",
       "      <td>464</td>\n",
       "      <td>1449</td>\n",
       "      <td>NaN</td>\n",
       "      <td>[religion, classics, nonfiction, christian, hi...</td>\n",
       "      <td>https://images.gr-assets.com/books/1313518530m...</td>\n",
       "      <td>eng</td>\n",
       "      <td>1611.0</td>\n",
       "      <td>...</td>\n",
       "      <td>1590.0</td>\n",
       "      <td>01/15/08</td>\n",
       "      <td>10011</td>\n",
       "      <td>6802</td>\n",
       "      <td>11712</td>\n",
       "      <td>14338</td>\n",
       "      <td>128731</td>\n",
       "      <td>159457</td>\n",
       "      <td>Holy Bible: King James Version</td>\n",
       "      <td>['Anonymous']</td>\n",
       "    </tr>\n",
       "    <tr>\n",
       "      <th>911</th>\n",
       "      <td>911</td>\n",
       "      <td>['Jules Verne']</td>\n",
       "      <td>3.84</td>\n",
       "      <td>972</td>\n",
       "      <td>1363</td>\n",
       "      <td>NaN</td>\n",
       "      <td>[classics, science-fiction, fiction, fantasy]</td>\n",
       "      <td>https://s.gr-assets.com/assets/nophoto/book/11...</td>\n",
       "      <td>eng</td>\n",
       "      <td>1864.0</td>\n",
       "      <td>...</td>\n",
       "      <td>240.0</td>\n",
       "      <td>April 25th 2006</td>\n",
       "      <td>1238</td>\n",
       "      <td>6342</td>\n",
       "      <td>31442</td>\n",
       "      <td>42106</td>\n",
       "      <td>29972</td>\n",
       "      <td>89410</td>\n",
       "      <td>Journey to the Center of the Earth (Extraordin...</td>\n",
       "      <td>['Jules Verne']</td>\n",
       "    </tr>\n",
       "    <tr>\n",
       "      <th>1044</th>\n",
       "      <td>1044</td>\n",
       "      <td>['Aesop', 'Laura Harris', 'Laura Gibbs']</td>\n",
       "      <td>4.05</td>\n",
       "      <td>1120</td>\n",
       "      <td>942</td>\n",
       "      <td>NaN</td>\n",
       "      <td>[classics, fiction, fantasy, philosophy]</td>\n",
       "      <td>https://s.gr-assets.com/assets/nophoto/book/11...</td>\n",
       "      <td>eng</td>\n",
       "      <td>-560.0</td>\n",
       "      <td>...</td>\n",
       "      <td>306.0</td>\n",
       "      <td>April 10th 2003</td>\n",
       "      <td>773</td>\n",
       "      <td>3717</td>\n",
       "      <td>22587</td>\n",
       "      <td>34885</td>\n",
       "      <td>37000</td>\n",
       "      <td>88508</td>\n",
       "      <td>Aesop's Fables</td>\n",
       "      <td>['Aesop', 'Laura Harris', 'Laura Gibbs']</td>\n",
       "    </tr>\n",
       "    <tr>\n",
       "      <th>1244</th>\n",
       "      <td>1244</td>\n",
       "      <td>['Allen Ginsberg', 'William Carlos Williams']</td>\n",
       "      <td>4.14</td>\n",
       "      <td>1329</td>\n",
       "      <td>47</td>\n",
       "      <td>NaN</td>\n",
       "      <td>[poetry, classics, fiction]</td>\n",
       "      <td>https://images.gr-assets.com/books/1327870926m...</td>\n",
       "      <td>eng</td>\n",
       "      <td>1956.0</td>\n",
       "      <td>...</td>\n",
       "      <td>56.0</td>\n",
       "      <td>01/01/01</td>\n",
       "      <td>1544</td>\n",
       "      <td>3203</td>\n",
       "      <td>12223</td>\n",
       "      <td>24316</td>\n",
       "      <td>34043</td>\n",
       "      <td>71968</td>\n",
       "      <td>Howl and Other Poems</td>\n",
       "      <td>['Allen Ginsberg', 'William Carlos Williams']</td>\n",
       "    </tr>\n",
       "    <tr>\n",
       "      <th>1252</th>\n",
       "      <td>1252</td>\n",
       "      <td>['Anonymous', 'Joseph Smith Jr.']</td>\n",
       "      <td>4.37</td>\n",
       "      <td>1338</td>\n",
       "      <td>343</td>\n",
       "      <td>NaN</td>\n",
       "      <td>[religion, nonfiction, spirituality, history, ...</td>\n",
       "      <td>https://images.gr-assets.com/books/1327389004m...</td>\n",
       "      <td>eng</td>\n",
       "      <td>1830.0</td>\n",
       "      <td>...</td>\n",
       "      <td>531.0</td>\n",
       "      <td>10/28/13</td>\n",
       "      <td>6989</td>\n",
       "      <td>2468</td>\n",
       "      <td>2246</td>\n",
       "      <td>1749</td>\n",
       "      <td>52708</td>\n",
       "      <td>63530</td>\n",
       "      <td>The Book of Mormon: Another Testament of Jesus...</td>\n",
       "      <td>['Anonymous', 'Joseph Smith Jr.']</td>\n",
       "    </tr>\n",
       "  </tbody>\n",
       "</table>\n",
       "<p>5 rows × 21 columns</p>\n",
       "</div>"
      ],
      "text/plain": [
       "      index                                        authors  average_rating  \\\n",
       "427     427                                  ['Anonymous']            4.43   \n",
       "911     911                                ['Jules Verne']            3.84   \n",
       "1044   1044       ['Aesop', 'Laura Harris', 'Laura Gibbs']            4.05   \n",
       "1244   1244  ['Allen Ginsberg', 'William Carlos Williams']            4.14   \n",
       "1252   1252              ['Anonymous', 'Joseph Smith Jr.']            4.37   \n",
       "\n",
       "      book_id  books_count description  \\\n",
       "427       464         1449         NaN   \n",
       "911       972         1363         NaN   \n",
       "1044     1120          942         NaN   \n",
       "1244     1329           47         NaN   \n",
       "1252     1338          343         NaN   \n",
       "\n",
       "                                                 genres  \\\n",
       "427   [religion, classics, nonfiction, christian, hi...   \n",
       "911       [classics, science-fiction, fiction, fantasy]   \n",
       "1044           [classics, fiction, fantasy, philosophy]   \n",
       "1244                        [poetry, classics, fiction]   \n",
       "1252  [religion, nonfiction, spirituality, history, ...   \n",
       "\n",
       "                                              image_url language_code  \\\n",
       "427   https://images.gr-assets.com/books/1313518530m...           eng   \n",
       "911   https://s.gr-assets.com/assets/nophoto/book/11...           eng   \n",
       "1044  https://s.gr-assets.com/assets/nophoto/book/11...           eng   \n",
       "1244  https://images.gr-assets.com/books/1327870926m...           eng   \n",
       "1252  https://images.gr-assets.com/books/1327389004m...           eng   \n",
       "\n",
       "      original_publication_year  ...   pages      publishDate ratings_1  \\\n",
       "427                      1611.0  ...  1590.0         01/15/08     10011   \n",
       "911                      1864.0  ...   240.0  April 25th 2006      1238   \n",
       "1044                     -560.0  ...   306.0  April 10th 2003       773   \n",
       "1244                     1956.0  ...    56.0         01/01/01      1544   \n",
       "1252                     1830.0  ...   531.0         10/28/13      6989   \n",
       "\n",
       "      ratings_2  ratings_3  ratings_4  ratings_5  ratings_count  \\\n",
       "427        6802      11712      14338     128731         159457   \n",
       "911        6342      31442      42106      29972          89410   \n",
       "1044       3717      22587      34885      37000          88508   \n",
       "1244       3203      12223      24316      34043          71968   \n",
       "1252       2468       2246       1749      52708          63530   \n",
       "\n",
       "                                                  title  \\\n",
       "427                      Holy Bible: King James Version   \n",
       "911   Journey to the Center of the Earth (Extraordin...   \n",
       "1044                                     Aesop's Fables   \n",
       "1244                               Howl and Other Poems   \n",
       "1252  The Book of Mormon: Another Testament of Jesus...   \n",
       "\n",
       "                                          authors_2  \n",
       "427                                   ['Anonymous']  \n",
       "911                                 ['Jules Verne']  \n",
       "1044       ['Aesop', 'Laura Harris', 'Laura Gibbs']  \n",
       "1244  ['Allen Ginsberg', 'William Carlos Williams']  \n",
       "1252              ['Anonymous', 'Joseph Smith Jr.']  \n",
       "\n",
       "[5 rows x 21 columns]"
      ]
     },
     "execution_count": 37,
     "metadata": {},
     "output_type": "execute_result"
    }
   ],
   "source": [
    "print_n(books_df[books_df[\"description\"].isna()], 5)"
   ]
  },
  {
   "cell_type": "markdown",
   "id": "092fcc34-026d-4706-b7a3-42551511ee3e",
   "metadata": {},
   "source": [
    "We will examine possible time trends, so let's make sure that the `original_publication_year` variable is the right type."
   ]
  },
  {
   "cell_type": "markdown",
   "id": "2ae349f3-eb84-4695-81d5-caa3b72018ad",
   "metadata": {},
   "source": [
    "The rest of columns containing missing values are not that important from our tasks' perspective, so we ignore them."
   ]
  },
  {
   "cell_type": "code",
   "execution_count": 38,
   "id": "3a9a8fc2-fcf0-4219-812c-e4bb7ebe6973",
   "metadata": {},
   "outputs": [],
   "source": [
    "books_df = books_df[books_df[\"original_title\"].notna() & books_df[\"description\"].notna() & books_df[\"original_publication_year\"].notna()]"
   ]
  },
  {
   "cell_type": "code",
   "execution_count": 39,
   "id": "9b19d9ea-47ca-4991-aeb2-dc8d23be8c3d",
   "metadata": {},
   "outputs": [],
   "source": [
    "#books_df.isna().sum()"
   ]
  },
  {
   "cell_type": "code",
   "execution_count": 40,
   "id": "19a6454d-21b0-48e7-ad87-297c44589f86",
   "metadata": {},
   "outputs": [],
   "source": [
    "books_df[\"original_publication_year\"] = books_df[books_df[\"original_publication_year\"].notna()][\"original_publication_year\"].astype(int)"
   ]
  },
  {
   "cell_type": "code",
   "execution_count": 45,
   "id": "34729245-27e3-4cd0-beda-9de2ede3f55d",
   "metadata": {
    "scrolled": true
   },
   "outputs": [],
   "source": [
    "#print_n(books_df, 5)\n",
    "#books_df.to_excel(\"preprocessed_books_df.xlsx\")"
   ]
  },
  {
   "cell_type": "markdown",
   "id": "e7c5aa35-7476-4e56-8191-2ab3db96c700",
   "metadata": {},
   "source": [
    "## Per author analysis"
   ]
  },
  {
   "cell_type": "code",
   "execution_count": 42,
   "id": "bfbd285a-b32a-49a1-aa80-015702159d68",
   "metadata": {},
   "outputs": [],
   "source": [
    "def clean_authors(x):\n",
    "    authors = literal_eval(x)\n",
    "    authors = [a.strip(\"[] '\") for a in authors]\n",
    "    return ', '.join(authors)"
   ]
  },
  {
   "cell_type": "code",
   "execution_count": 80,
   "id": "93a1e1b9-5db5-4878-9632-f2fb8e17e946",
   "metadata": {},
   "outputs": [],
   "source": [
    "books_df['authors'] = books_df['authors'].apply(clean_authors)"
   ]
  },
  {
   "cell_type": "code",
   "execution_count": null,
   "id": "a6b8b8ca-70c5-4107-aabc-b53d71e0addc",
   "metadata": {},
   "outputs": [],
   "source": []
  }
 ],
 "metadata": {
  "kernelspec": {
   "display_name": "Python 3 (ipykernel)",
   "language": "python",
   "name": "python3"
  },
  "language_info": {
   "codemirror_mode": {
    "name": "ipython",
    "version": 3
   },
   "file_extension": ".py",
   "mimetype": "text/x-python",
   "name": "python",
   "nbconvert_exporter": "python",
   "pygments_lexer": "ipython3",
   "version": "3.11.13"
  }
 },
 "nbformat": 4,
 "nbformat_minor": 5
}
